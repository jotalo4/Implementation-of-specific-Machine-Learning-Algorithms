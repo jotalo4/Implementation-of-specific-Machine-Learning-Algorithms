{
 "cells": [
  {
   "cell_type": "code",
   "execution_count": 2,
   "metadata": {},
   "outputs": [
    {
     "name": "stdout",
     "output_type": "stream",
     "text": [
      "c:\\Users\\aorukotan\\OneDrive - Smithfield Foods, Inc\\Desktop\\Assignments\\Workspace\\IA1\\Vibration Analysis\n",
      "c:\\Users\\aorukotan\\OneDrive - Smithfield Foods, Inc\\Desktop\\Assignments\\Workspace\\IA1\\Vibration Analysis\n",
      "     Nr       S/N                  Capacit  U batt   Temp     Techno   \\\n",
      "0        200                           300       24       69            \n",
      "1        199                           300       24       69            \n",
      "2        198                           300       24       69            \n",
      "3        197                           300       24       69            \n",
      "4        196                           300       24       69            \n",
      "..       ...                  ...      ...      ...      ...      ...   \n",
      "195        5                           300       24       69            \n",
      "196        4                           300       24       69            \n",
      "197        3                           300       24       69            \n",
      "198        2                           300       24       69            \n",
      "199        1                           300       24       69            \n",
      "\n",
      "     Profile  % init   U start  U end    ...  Temp en  Chg Tim  Ah       \\\n",
      "0    OPP           63     2.08     2.43  ...       69       35       37   \n",
      "1    OPP           56     2.06     2.43  ...       69      114       98   \n",
      "2    OPP           50     2.05     2.43  ...       69      160      165   \n",
      "3    OPP           69     2.09     2.43  ...       69      124       89   \n",
      "4    OPP           99     2.15     2.43  ...       69        5        2   \n",
      "..       ...      ...      ...      ...  ...      ...      ...      ...   \n",
      "195  OPP           78     2.10     2.43  ...       69      149      127   \n",
      "196  OPP           57     2.06     2.31  ...       69       50       62   \n",
      "197  OPP           25     2.00     2.43  ...       69      367      435   \n",
      "198  OPP           49     2.04     2.32  ...       69       20       25   \n",
      "199  OPP           46     2.04     2.34  ...       69       33       41   \n",
      "\n",
      "     kWh      Chg end  Default  SoC                  DBa                  \\\n",
      "0       1.11  Part ch           02/28/2022 07:37:00  02/28/2022 08:13:00   \n",
      "1       2.85  Full ch           02/28/2022 10:12:00  02/28/2022 12:47:00   \n",
      "2       4.73  Full ch           02/28/2022 17:48:00  02/28/2022 20:29:00   \n",
      "3       2.57  Full ch           03/01/2022 00:26:00  03/01/2022 06:05:00   \n",
      "4       0.05  Full ch           03/01/2022 06:05:00  03/01/2022 09:10:00   \n",
      "..       ...      ...      ...                  ...                  ...   \n",
      "195     3.68  Full ch           04/07/2022 12:13:00  04/07/2022 14:58:00   \n",
      "196     1.73  Part ch           04/07/2022 21:50:00  04/07/2022 22:41:00   \n",
      "197    12.42  Full ch  DF7      04/08/2022 00:15:00  04/08/2022 07:59:00   \n",
      "198     0.69  Part ch           04/08/2022 08:41:00  04/08/2022 09:01:00   \n",
      "199     1.16  Part ch           04/08/2022 10:15:00  04/08/2022 10:49:00   \n",
      "\n",
      "    CFC      Unnamed: 20  \n",
      "0         0          NaN  \n",
      "1         0          NaN  \n",
      "2         0          NaN  \n",
      "3         0          NaN  \n",
      "4         0          NaN  \n",
      "..      ...          ...  \n",
      "195       0          NaN  \n",
      "196       0          NaN  \n",
      "197    1280          NaN  \n",
      "198       0          NaN  \n",
      "199       0          NaN  \n",
      "\n",
      "[200 rows x 21 columns]\n"
     ]
    }
   ],
   "source": [
    "\n",
    "# import data_fft_function\n",
    "# from data_fft_function import preprocess\n",
    "# from data_fft_function import perct_change\n",
    "#from data_fft_function import save_multi_image\n",
    "import os\n",
    "from matplotlib.backends.backend_pdf import PdfPages\n",
    "import sys\n",
    "import pathlib\n",
    "import pandas as pd\n",
    "from pathlib import Path\n",
    "import matplotlib.pyplot as plt\n",
    "import matplotlib.dates as mdates\n",
    "\n",
    "\n",
    "# Ensure path is referenced to this script's root\n",
    "# thisdir = os.path.dirname(__file__)\n",
    "thisdir = Path.cwd()\n",
    "# os.chdir(thisdir)\n",
    "os.chdir(sys.path[0])\n",
    "print(sys.path[0])\n",
    "print(os.getcwd())\n",
    "dataframe = pd.read_csv('csvs/M0981310.csv', skiprows=6)\n",
    "print(dataframe)"
   ]
  }
 ],
 "metadata": {
  "interpreter": {
   "hash": "a7e555a1f04e95f62cde946e3efcdc8b3b0acb272fdb6e73a36250632bba5f66"
  },
  "kernelspec": {
   "display_name": "Python 3.10.4 64-bit",
   "language": "python",
   "name": "python3"
  },
  "language_info": {
   "codemirror_mode": {
    "name": "ipython",
    "version": 3
   },
   "file_extension": ".py",
   "mimetype": "text/x-python",
   "name": "python",
   "nbconvert_exporter": "python",
   "pygments_lexer": "ipython3",
   "version": "3.10.4"
  },
  "orig_nbformat": 4
 },
 "nbformat": 4,
 "nbformat_minor": 2
}
