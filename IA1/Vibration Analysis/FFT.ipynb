{
 "cells": [
  {
   "cell_type": "code",
   "execution_count": 1,
   "metadata": {},
   "outputs": [
    {
     "name": "stdout",
     "output_type": "stream",
     "text": [
      "c:\\Users\\samue\\Desktop\\Machine Learning\\Workspace\\IA1\\Vibration Analysis\n",
      "c:\\Users\\samue\\Desktop\\Machine Learning\\Workspace\\IA1\\Vibration Analysis\n",
      "c:\\Users\\samue\\Desktop\\Machine Learning\\Workspace\\IA1\\Vibration Analysis\\figs/\n"
     ]
    }
   ],
   "source": [
    "import data_fft_function\n",
    "from data_fft_function import preprocess\n",
    "from data_fft_function import perct_change\n",
    "#from data_fft_function import save_multi_image\n",
    "import os\n",
    "from matplotlib.backends.backend_pdf import PdfPages\n",
    "import sys\n",
    "import pathlib\n",
    "import datetime\n",
    "import pandas as pd\n",
    "from pathlib import Path\n",
    "import matplotlib.pyplot as plt\n",
    "import matplotlib.dates as mdates\n",
    "import PyPDF2 as pyd\n",
    "from PyPDF2 import PdfFileWriter, PdfFileReader\n",
    "\n",
    "\n",
    "\n",
    "# Ensure path is referenced to this script's root\n",
    "# thisdir = os.path.dirname(__file__)\n",
    "thisdir = Path.cwd()\n",
    "# os.chdir(thisdir)\n",
    "os.chdir(sys.path[0])\n",
    "print(sys.path[0])\n",
    "print(os.getcwd())\n",
    "\n",
    "figs_dir = os.path.join(thisdir, 'figs/')\n",
    "print(figs_dir)\n",
    "if not os.path.isdir(figs_dir):\n",
    "    os.makedirs(figs_dir)\n"
   ]
  },
  {
   "cell_type": "code",
   "execution_count": 2,
   "metadata": {},
   "outputs": [
    {
     "name": "stdout",
     "output_type": "stream",
     "text": [
      "['Equipment', 'Equipment ID', 'Current', 'Previous', 'Collection Date']\n",
      "data size (rows,columns) (921, 5)\n",
      "           Equipment Equipment ID  Current Previous  Collection Date  % Change\n",
      "0    Air Compressors        30 KW   1.1200        0  3/31/2022 14:05       inf\n",
      "1    Air Compressors        30 KW   0.0288        0  3/31/2022 14:05       inf\n",
      "2    Air Compressors        30 KW   0.5700        0  3/31/2022 14:05       inf\n",
      "3    Air Compressors        30 KW   0.4880        0  3/31/2022 14:05       inf\n",
      "4    Air Compressors        30 KW   2.9800        0  3/31/2022 14:01       inf\n",
      "..               ...          ...      ...      ...              ...       ...\n",
      "916      Smokehouses      Wins 14   0.0427        0  3/31/2022 14:14       inf\n",
      "917      Smokehouses      Wins 14   0.4030        0  3/31/2022 14:13       inf\n",
      "918      Smokehouses      Wins 14   0.0187        0  3/31/2022 14:13       inf\n",
      "919      Smokehouses      Wins 14   0.3970        0  3/31/2022 14:13       inf\n",
      "920      Smokehouses      Wins 14   0.4100        0  3/31/2022 14:13       inf\n",
      "\n",
      "[921 rows x 6 columns]\n"
     ]
    }
   ],
   "source": [
    "\n",
    "# Define Sampling Rate\n",
    "Fs = 1e3\n",
    "\n",
    "# Raw Data\n",
    "rawdata = 'csvs/Vibration Data.csv'\n",
    "data_id, cols, inputdata = preprocess(rawdata)\n",
    "#print(inputdata)\n",
    "\n",
    "# # Raw Data\n",
    "# rawdata = 'csvs/M0981310.CSV'\n",
    "# data_id, cols, inputdata = preprocess(rawdata)\n",
    "# print(inputdata)\n",
    "\n",
    "\n",
    "\n",
    "# creating new features\n",
    "Current_value = inputdata['Current']\n",
    "Previous_value = inputdata['Previous']\n",
    "\n",
    "inputdata.loc[inputdata['Previous'] == ' ', 'Previous'] = 0 # Fill the missing values empty old values with 0\n",
    "New_Prev = Previous_value\n",
    "New_Prev = pd.to_numeric(New_Prev) # Convert to float type\n",
    "Previous_value = New_Prev\n",
    "\n",
    "# Percent Change Calculation\n",
    "Pctchange = perct_change(Current_value, Previous_value) \n",
    "#print(inputdata)\n",
    "# add the percentage change Column\n",
    "inputdata[\"% Change\"] = Pctchange\n",
    "Post_data = inputdata.to_csv('csvs\\Post_data.csv', index=False)\n",
    "Post_data = pd.DataFrame(inputdata)\n",
    "print(Post_data)"
   ]
  },
  {
   "cell_type": "code",
   "execution_count": 3,
   "metadata": {},
   "outputs": [
    {
     "name": "stdout",
     "output_type": "stream",
     "text": [
      "datetime64[ns]\n",
      "                                     Previous     Collection Date  % Change\n",
      "Equipment ID Equipment       Current                                       \n",
      "30 KW        Air Compressors 0.00222        0 2022-03-31 14:04:00       inf\n",
      "                             0.00789        0 2022-03-31 14:00:00       inf\n",
      "                             0.01920        0 2022-03-31 14:00:00       inf\n",
      "                             0.02000        0 2022-03-31 14:04:00       inf\n",
      "                             0.02880        0 2022-03-31 14:05:00       inf\n",
      "...                                       ...                 ...       ...\n",
      "Wins 14      Smokehouses     0.41800        0 2022-03-31 14:14:00       inf\n",
      "                             0.45000        0 2022-03-31 14:14:00       inf\n",
      "                             0.50900        0 2022-03-31 14:14:00       inf\n",
      "                             0.75000        0 2022-03-31 14:14:00       inf\n",
      "                             0.91400        0 2022-03-31 14:14:00       inf\n",
      "\n",
      "[905 rows x 3 columns]\n"
     ]
    }
   ],
   "source": [
    "# FFT, IFFT \n",
    "# Extracting few important columns\n",
    "Current_Amps = Post_data['Current']\n",
    "Previous_Amps = Post_data['Previous']\n",
    "t_stamp = Post_data['Collection Date'] = pd.to_datetime(Post_data['Collection Date'])\n",
    "print(t_stamp.dtype)\n",
    "Equipment = Post_data['Equipment']\n",
    "EquipmentID = Post_data['Equipment ID']\n",
    "PercentChange = Post_data['% Change']\n",
    "\n",
    "# Obtain a list of unique values in a pandas DataFrame column\n",
    "Equipments = Equipment.unique()\n",
    "EquipmentIDs = EquipmentID.unique()\n",
    "myFmt = mdates.DateFormatter('%Y-%m-%d %H:%M')\n",
    "gkk = Post_data.sort_values(by='Collection Date', ascending = False).groupby(['Equipment ID', 'Equipment', 'Current'])\n",
    "g = gkk.first()\n",
    "print(g)\n",
    "\n",
    "\n"
   ]
  },
  {
   "cell_type": "code",
   "execution_count": 4,
   "metadata": {},
   "outputs": [
    {
     "data": {
      "text/plain": [
       "<Figure size 720x720 with 0 Axes>"
      ]
     },
     "metadata": {},
     "output_type": "display_data"
    },
    {
     "data": {
      "text/plain": [
       "<Figure size 720x720 with 0 Axes>"
      ]
     },
     "metadata": {},
     "output_type": "display_data"
    },
    {
     "data": {
      "text/plain": [
       "<Figure size 720x720 with 0 Axes>"
      ]
     },
     "metadata": {},
     "output_type": "display_data"
    },
    {
     "data": {
      "text/plain": [
       "<Figure size 720x720 with 0 Axes>"
      ]
     },
     "metadata": {},
     "output_type": "display_data"
    },
    {
     "data": {
      "text/plain": [
       "<Figure size 720x720 with 0 Axes>"
      ]
     },
     "metadata": {},
     "output_type": "display_data"
    },
    {
     "data": {
      "text/plain": [
       "<Figure size 720x720 with 0 Axes>"
      ]
     },
     "metadata": {},
     "output_type": "display_data"
    },
    {
     "data": {
      "text/plain": [
       "<Figure size 720x720 with 0 Axes>"
      ]
     },
     "metadata": {},
     "output_type": "display_data"
    },
    {
     "data": {
      "text/plain": [
       "<Figure size 720x720 with 0 Axes>"
      ]
     },
     "metadata": {},
     "output_type": "display_data"
    },
    {
     "data": {
      "text/plain": [
       "<Figure size 720x720 with 0 Axes>"
      ]
     },
     "metadata": {},
     "output_type": "display_data"
    },
    {
     "data": {
      "text/plain": [
       "<Figure size 720x720 with 0 Axes>"
      ]
     },
     "metadata": {},
     "output_type": "display_data"
    },
    {
     "data": {
      "text/plain": [
       "<Figure size 720x720 with 0 Axes>"
      ]
     },
     "metadata": {},
     "output_type": "display_data"
    },
    {
     "data": {
      "text/plain": [
       "<Figure size 720x720 with 0 Axes>"
      ]
     },
     "metadata": {},
     "output_type": "display_data"
    },
    {
     "data": {
      "text/plain": [
       "<Figure size 720x720 with 0 Axes>"
      ]
     },
     "metadata": {},
     "output_type": "display_data"
    },
    {
     "data": {
      "text/plain": [
       "<Figure size 720x720 with 0 Axes>"
      ]
     },
     "metadata": {},
     "output_type": "display_data"
    },
    {
     "data": {
      "text/plain": [
       "<Figure size 720x720 with 0 Axes>"
      ]
     },
     "metadata": {},
     "output_type": "display_data"
    },
    {
     "data": {
      "text/plain": [
       "<Figure size 720x720 with 0 Axes>"
      ]
     },
     "metadata": {},
     "output_type": "display_data"
    },
    {
     "data": {
      "text/plain": [
       "<Figure size 720x720 with 0 Axes>"
      ]
     },
     "metadata": {},
     "output_type": "display_data"
    },
    {
     "data": {
      "text/plain": [
       "<Figure size 720x720 with 0 Axes>"
      ]
     },
     "metadata": {},
     "output_type": "display_data"
    },
    {
     "data": {
      "text/plain": [
       "<Figure size 720x720 with 0 Axes>"
      ]
     },
     "metadata": {},
     "output_type": "display_data"
    },
    {
     "data": {
      "text/plain": [
       "<Figure size 720x720 with 0 Axes>"
      ]
     },
     "metadata": {},
     "output_type": "display_data"
    },
    {
     "data": {
      "text/plain": [
       "<Figure size 720x720 with 0 Axes>"
      ]
     },
     "metadata": {},
     "output_type": "display_data"
    },
    {
     "data": {
      "text/plain": [
       "<Figure size 720x720 with 0 Axes>"
      ]
     },
     "metadata": {},
     "output_type": "display_data"
    },
    {
     "data": {
      "text/plain": [
       "<Figure size 720x720 with 0 Axes>"
      ]
     },
     "metadata": {},
     "output_type": "display_data"
    },
    {
     "data": {
      "text/plain": [
       "<Figure size 720x720 with 0 Axes>"
      ]
     },
     "metadata": {},
     "output_type": "display_data"
    },
    {
     "data": {
      "text/plain": [
       "<Figure size 720x720 with 0 Axes>"
      ]
     },
     "metadata": {},
     "output_type": "display_data"
    }
   ],
   "source": [
    "\n",
    "\n",
    "# Plots\n",
    "#fig,ax = plt.subplots(figsize=(8,6))\n",
    "#with PdfPages('foo.pdf') as pdf:\n",
    "# create  a pdf file object\n",
    "with PdfPages(figs_dir + f\"Vibration Analysis.pdf\") as pdf:\n",
    "      for i, g in Post_data.groupby(['Equipment ID']):\n",
    "            #pdf = PdfPages('fig.pdf')\n",
    "            plt.figure(figsize=(10,10))\n",
    "            fig = g.plot(x = 'Collection Date', y = 'Current' , label=str(i))\n",
    "            plt.ylabel('Amps')\n",
    "            plt.xlabel('TimeStamp')\n",
    "            plt.ylim(ymin = 0)\n",
    "            plt.xticks(rotation=45)\n",
    "            #plt.rcParams['text.usetex'] =  True  #\"font.family\": \"serif\", \"serif\": [\"Computer Modern Roman\"]})  # Avant Garde, Helvetica, Computer Modern Sans Serif\n",
    "            plt.gca().xaxis.set_major_formatter(myFmt)\n",
    "            #plt.text(0.5,0.5,\"my title\",ha='center',va='center')\n",
    "            plt.ion\n",
    "            #plt.savefig(figs_dir + f\"Vibration Analysis.pdf\", bbox_inches='tight') # save as pdf\n",
    "            pdf.savefig()\n",
    "            #pdf.attach_note('Smithfield Foods', positionRect=[- 20, - 20, 0, 0])\n",
    "            page = pdf.get_pagecount()\n",
    "            #output = PdfFileWriter()\n",
    "            #output.addPage(page)\n",
    "            pyd.PdfFileReader\n",
    "            plt.close()\n",
    "            plt.show(block=False) # Generate Plot\n",
    "\n",
    "# We can also set the file's metadata via the PdfPages object:\n",
    "            n = pdf.getNumPages()\n",
    "            d = pdf.infodict()\n",
    "            #print(d)\n",
    "            d['Title'] = 'Vibration Analysis'\n",
    "            d['Author'] = 'Smithfield Foods Sioux  City'\n",
    "            d['Subject'] = 'How to create a multipage pdf file and set its metadata'\n",
    "            d['Keywords'] = 'PdfPages multipage keywords author title subject'\n",
    "            d['CreationDate'] = datetime.datetime.today()\n",
    "            #d['ModDate'] = datetime.datetime.today()\n"
   ]
  },
  {
   "cell_type": "code",
   "execution_count": null,
   "metadata": {},
   "outputs": [],
   "source": []
  }
 ],
 "metadata": {
  "interpreter": {
   "hash": "a7e555a1f04e95f62cde946e3efcdc8b3b0acb272fdb6e73a36250632bba5f66"
  },
  "kernelspec": {
   "display_name": "Python 3.10.4 64-bit",
   "language": "python",
   "name": "python3"
  },
  "language_info": {
   "codemirror_mode": {
    "name": "ipython",
    "version": 3
   },
   "file_extension": ".py",
   "mimetype": "text/x-python",
   "name": "python",
   "nbconvert_exporter": "python",
   "pygments_lexer": "ipython3",
   "version": "3.10.4"
  },
  "orig_nbformat": 4
 },
 "nbformat": 4,
 "nbformat_minor": 2
}
