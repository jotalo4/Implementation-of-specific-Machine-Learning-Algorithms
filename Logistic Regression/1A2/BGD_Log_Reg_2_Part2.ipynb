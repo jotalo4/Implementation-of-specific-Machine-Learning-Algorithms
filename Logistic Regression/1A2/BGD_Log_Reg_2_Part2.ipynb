{
 "cells": [
  {
   "cell_type": "code",
   "execution_count": 1,
   "metadata": {},
   "outputs": [
    {
     "name": "stdout",
     "output_type": "stream",
     "text": [
      "c:\\Users\\samue\\Desktop\\Machine Learning\\Workspace\\Logistic Regression\\1A2\n"
     ]
    }
   ],
   "source": [
    "from src.infer_models import infer\n",
    "from src.preprocess import preprocess\n",
    "from src.archs_models import stdlogistic\n",
    "from src.opts_models_new import gradient_descent\n",
    "import os\n",
    "import sys\n",
    "import pathlib\n",
    "from pathlib import Path\n",
    "\n",
    "import numpy as np\n",
    "from numpy.core.shape_base import block\n",
    "import pandas as pd\n",
    "import seaborn as sns\n",
    "import matplotlib.pyplot as plt\n",
    "\n",
    "plt.rcParams.update({\n",
    "    \"text.usetex\": True,\n",
    "    \"font.family\": \"sans-serif\",\n",
    "    \"font.sans-serif\": [\"Computer Modern Sans Serif\"]})  # Avant Garde, Helvetica, Computer Modern Sans Serif\n",
    "\n",
    "np.set_printoptions(precision=4)\n",
    "np.set_printoptions(formatter={'float': \"{:0.4f}\".format})\n",
    "\n",
    "\n",
    "# Ensure path is referenced to this script's root\n",
    "# thisdir = os.path.dirname(__file__)\n",
    "thisdir = Path.cwd()\n",
    "# os.chdir(thisdir)\n",
    "os.chdir(sys.path[0])\n",
    "print(os.getcwd())\n",
    "\n",
    "figs_dir = os.path.join(thisdir, 'figs/')\n",
    "if not os.path.isdir(figs_dir):\n",
    "    os.makedirs(figs_dir)\n"
   ]
  },
  {
   "cell_type": "code",
   "execution_count": 2,
   "metadata": {},
   "outputs": [
    {
     "name": "stdout",
     "output_type": "stream",
     "text": [
      "data size (rows,columns) (6000, 198)\n",
      "                    Vehicle_Damage  Previously_Insured  Vehicle_Age_0  \\\n",
      "Vehicle_Damage            1.000000           -0.858465       0.305893   \n",
      "Previously_Insured       -0.858465            1.000000      -0.313266   \n",
      "Vehicle_Age_0             0.305893           -0.313266       1.000000   \n",
      "Vehicle_Age_1            -0.418453            0.418906      -0.855960   \n",
      "Vehicle_Age_2             0.177294           -0.164105      -0.348569   \n",
      "Response                  0.598229           -0.583561       0.255089   \n",
      "\n",
      "                    Vehicle_Age_1  Vehicle_Age_2  Response  \n",
      "Vehicle_Damage          -0.418453       0.177294  0.598229  \n",
      "Previously_Insured       0.418906      -0.164105 -0.583561  \n",
      "Vehicle_Age_0           -0.855960      -0.348569  0.255089  \n",
      "Vehicle_Age_1            1.000000      -0.186254 -0.341008  \n",
      "Vehicle_Age_2           -0.186254       1.000000  0.133442  \n",
      "Response                -0.341008       0.133442  1.000000  \n",
      "data size (rows,columns) (10000, 198)\n",
      "                    Vehicle_Damage  Previously_Insured  Vehicle_Age_0  \\\n",
      "Vehicle_Damage            1.000000           -0.853494       0.312304   \n",
      "Previously_Insured       -0.853494            1.000000      -0.306650   \n",
      "Vehicle_Age_0             0.312304           -0.306650       1.000000   \n",
      "Vehicle_Age_1            -0.421954            0.408671      -0.861005   \n",
      "Vehicle_Age_2             0.177401           -0.163749      -0.338647   \n",
      "Response                  0.600201           -0.589598       0.258971   \n",
      "\n",
      "                    Vehicle_Age_1  Vehicle_Age_2  Response  \n",
      "Vehicle_Damage          -0.421954       0.177401  0.600201  \n",
      "Previously_Insured       0.408671      -0.163749 -0.589598  \n",
      "Vehicle_Age_0           -0.861005      -0.338647  0.258971  \n",
      "Vehicle_Age_1            1.000000      -0.186967 -0.342723  \n",
      "Vehicle_Age_2           -0.186967       1.000000  0.133836  \n",
      "Response                -0.342723       0.133836  1.000000  \n"
     ]
    }
   ],
   "source": [
    "\n",
    "# Data Preprocessing\n",
    "# do major feature engineering - 0 | 1\n",
    "doengr = 0\n",
    "donormalize = 1\n",
    "\n",
    "# Train\n",
    "rawdata = 'csvs/IA2-train.csv'\n",
    "traindata, train_id = preprocess(rawdata, donormalize=donormalize, istrain=1,\n",
    "                                 traininfo=None, doengr=doengr)\n",
    "\n",
    "# View final data entering the model.\n",
    "# print(traindata['X'])\n",
    "# print(traindata['X'].shape)\n",
    "\n",
    "# Dev\n",
    "rawdata = 'csvs/IA2-dev.csv'\n",
    "devdata, dev_id = preprocess(rawdata, donormalize=donormalize, istrain=0,\n",
    "                             traininfo=traindata, doengr=doengr)\n",
    "\n"
   ]
  },
  {
   "cell_type": "code",
   "execution_count": 3,
   "metadata": {},
   "outputs": [],
   "source": [
    "\n",
    "# DEV: Model Training and Selection\n",
    "\n",
    "# - max. number of iterations (fixed) - epochs\n",
    "epochs = int(5e3)\n",
    "\n",
    "# - learning-rate (step-size) selection set\n",
    "# lrs =  [5e-3, 1e-2, 2e-2, 0.1, 0.5]\n",
    "\n",
    "# learning rate\n",
    "stepsize = 1e-1\n",
    "\n",
    "# - regularization scale size selection set\n",
    "lregs = [1e-3, 1e-2, 1e-1, 1, 1e1, 1e2, 1e3]\n",
    "\n",
    "# regsize = 0.01 # 1e-1 to 1e-2 to 1e-3\n",
    "\n",
    "# Turns out lists and dicts are passed by ref. in python.\n",
    "# They behave as global variables, modified in function they are passed to.\n",
    "\n",
    "# model's number of largest weighted features\n",
    "bigks = 5\n",
    "\n",
    "# list to hold all models\n",
    "model_sels = []\n",
    "\n",
    "# regularization rate\n",
    "regtype = 1\n",
    "#regtype = 2\n",
    "# regtype = 3\n",
    "\n",
    "# - random weight initialization\n",
    "W = np.random.uniform(0, 0.02, (traindata['cols'], 1))\n",
    "W[0] = np.zeros(shape=(1, 1))\n",
    "#print(W[0])\n"
   ]
  },
  {
   "cell_type": "code",
   "execution_count": 4,
   "metadata": {},
   "outputs": [
    {
     "name": "stdout",
     "output_type": "stream",
     "text": [
      "\n",
      "*******L1: Model Selection************************\n",
      "(start): Regularization-scale:  0.001\n",
      "k:     0, mse(train): 0.2494, mse(dev): 0.2401 | facc(train): 0.4995, facc(dev): 0.6993\n",
      "k:   200, mse(train): 0.1463, mse(dev): 0.1474 | facc(train): 0.7847, facc(dev): 0.7840\n",
      "k:   400, mse(train): 0.1446, mse(dev): 0.1461 | facc(train): 0.7870, facc(dev): 0.7860\n",
      "k:   600, mse(train): 0.1438, mse(dev): 0.1456 | facc(train): 0.7918, facc(dev): 0.7908\n",
      "k:   800, mse(train): 0.1433, mse(dev): 0.1454 | facc(train): 0.7937, facc(dev): 0.7924\n",
      "k:  1000, mse(train): 0.1430, mse(dev): 0.1452 | facc(train): 0.7945, facc(dev): 0.7926\n",
      "\n",
      "*******L1: Model Selection************************\n",
      "(start): Regularization-scale:  0.01\n",
      "k:     0, mse(train): 0.2494, mse(dev): 0.2403 | facc(train): 0.4995, facc(dev): 0.7004\n",
      "k:   200, mse(train): 0.1482, mse(dev): 0.1483 | facc(train): 0.7812, facc(dev): 0.7828\n",
      "\n",
      "*******L1: Model Selection************************\n",
      "(start): Regularization-scale:  0.1\n",
      "k:     0, mse(train): 0.2494, mse(dev): 0.2433 | facc(train): 0.4995, facc(dev): 0.7008\n",
      "k:   200, mse(train): 0.1610, mse(dev): 0.1600 | facc(train): 0.7825, facc(dev): 0.7848\n",
      "k:   400, mse(train): 0.1606, mse(dev): 0.1592 | facc(train): 0.7825, facc(dev): 0.7848\n",
      "\n",
      "*******L1: Model Selection************************\n",
      "(start): Regularization-scale:  1\n",
      "k:     0, mse(train): 0.2494, mse(dev): 0.2809 | facc(train): 0.4995, facc(dev): 0.3191\n",
      "k:   200, mse(train): 0.2660, mse(dev): 0.2459 | facc(train): 0.4858, facc(dev): 0.5138\n",
      "k:   400, mse(train): 0.2497, mse(dev): 0.2509 | facc(train): 0.5198, facc(dev): 0.4946\n",
      "\n",
      "*******L1: Model Selection************************\n",
      "(start): Regularization-scale:  10.0\n",
      "k:     0, mse(train): 0.2494, mse(dev): 0.6011 | facc(train): 0.4995, facc(dev): 0.3147\n",
      "k:   200, mse(train): 0.2940, mse(dev): 0.3770 | facc(train): 0.5178, facc(dev): 0.4184\n",
      "k:   400, mse(train): 0.4188, mse(dev): 0.3782 | facc(train): 0.5048, facc(dev): 0.5203\n",
      "k:   600, mse(train): 0.4195, mse(dev): 0.3726 | facc(train): 0.5028, facc(dev): 0.4985\n",
      "k:   800, mse(train): 0.3165, mse(dev): 0.2681 | facc(train): 0.5353, facc(dev): 0.5818\n",
      "k:  1000, mse(train): 0.2837, mse(dev): 0.3701 | facc(train): 0.5663, facc(dev): 0.4175\n",
      "k:  1200, mse(train): 0.3315, mse(dev): 0.3675 | facc(train): 0.5298, facc(dev): 0.4653\n",
      "k:  1400, mse(train): 0.3565, mse(dev): 0.3630 | facc(train): 0.5113, facc(dev): 0.5210\n",
      "k:  1600, mse(train): 0.3756, mse(dev): 0.4309 | facc(train): 0.4948, facc(dev): 0.3937\n",
      "k:  1800, mse(train): 0.3227, mse(dev): 0.3189 | facc(train): 0.5267, facc(dev): 0.5875\n",
      "k:  2000, mse(train): 0.3166, mse(dev): 0.2837 | facc(train): 0.5475, facc(dev): 0.5597\n",
      "k:  2200, mse(train): 0.2999, mse(dev): 0.2143 | facc(train): 0.5013, facc(dev): 0.6793\n",
      "k:  2400, mse(train): 0.3928, mse(dev): 0.3343 | facc(train): 0.5045, facc(dev): 0.5424\n",
      "k:  2600, mse(train): 0.3304, mse(dev): 0.3428 | facc(train): 0.5367, facc(dev): 0.4588\n",
      "k:  2800, mse(train): 0.2588, mse(dev): 0.3515 | facc(train): 0.5970, facc(dev): 0.4052\n",
      "k:  3000, mse(train): 0.3848, mse(dev): 0.4335 | facc(train): 0.5083, facc(dev): 0.4468\n",
      "k:  3200, mse(train): 0.3103, mse(dev): 0.2451 | facc(train): 0.5565, facc(dev): 0.6038\n",
      "k:  3400, mse(train): 0.3798, mse(dev): 0.3380 | facc(train): 0.4342, facc(dev): 0.5119\n",
      "k:  3600, mse(train): 0.2728, mse(dev): 0.2920 | facc(train): 0.5907, facc(dev): 0.5676\n",
      "k:  3800, mse(train): 0.4182, mse(dev): 0.3633 | facc(train): 0.5067, facc(dev): 0.5294\n",
      "k:  4000, mse(train): 0.3044, mse(dev): 0.2722 | facc(train): 0.5170, facc(dev): 0.5778\n",
      "k:  4200, mse(train): 0.3414, mse(dev): 0.3384 | facc(train): 0.4958, facc(dev): 0.5398\n",
      "k:  4400, mse(train): 0.4388, mse(dev): 0.3107 | facc(train): 0.3903, facc(dev): 0.5733\n",
      "k:  4600, mse(train): 0.2999, mse(dev): 0.3789 | facc(train): 0.5637, facc(dev): 0.5027\n",
      "k:  4800, mse(train): 0.3713, mse(dev): 0.3473 | facc(train): 0.4753, facc(dev): 0.5546\n",
      "\n",
      "*******L1: Model Selection************************\n",
      "(start): Regularization-scale:  100.0\n",
      "k:     0, mse(train): 0.2494, mse(dev): 0.6808 | facc(train): 0.4995, facc(dev): 0.3145\n",
      "k:   200, mse(train): 0.3920, mse(dev): 0.5084 | facc(train): 0.5472, facc(dev): 0.4876\n",
      "k:   400, mse(train): 0.3012, mse(dev): 0.5119 | facc(train): 0.6687, facc(dev): 0.4643\n",
      "k:   600, mse(train): 0.4765, mse(dev): 0.5249 | facc(train): 0.5118, facc(dev): 0.4583\n",
      "k:   800, mse(train): 0.4009, mse(dev): 0.4986 | facc(train): 0.5815, facc(dev): 0.4891\n",
      "k:  1000, mse(train): 0.4125, mse(dev): 0.3852 | facc(train): 0.5632, facc(dev): 0.5861\n",
      "k:  1200, mse(train): 0.4492, mse(dev): 0.5234 | facc(train): 0.5338, facc(dev): 0.4504\n",
      "k:  1400, mse(train): 0.4640, mse(dev): 0.4375 | facc(train): 0.5273, facc(dev): 0.5212\n",
      "k:  1600, mse(train): 0.5073, mse(dev): 0.4947 | facc(train): 0.4870, facc(dev): 0.5013\n",
      "k:  1800, mse(train): 0.4754, mse(dev): 0.4997 | facc(train): 0.4918, facc(dev): 0.4824\n",
      "k:  2000, mse(train): 0.4952, mse(dev): 0.4850 | facc(train): 0.4995, facc(dev): 0.5051\n",
      "k:  2200, mse(train): 0.4099, mse(dev): 0.5310 | facc(train): 0.5698, facc(dev): 0.4570\n",
      "k:  2400, mse(train): 0.4925, mse(dev): 0.4987 | facc(train): 0.5048, facc(dev): 0.4963\n",
      "k:  2600, mse(train): 0.5063, mse(dev): 0.4913 | facc(train): 0.4807, facc(dev): 0.5032\n",
      "k:  2800, mse(train): 0.4961, mse(dev): 0.4374 | facc(train): 0.4840, facc(dev): 0.5398\n",
      "k:  3000, mse(train): 0.5047, mse(dev): 0.3456 | facc(train): 0.4905, facc(dev): 0.6446\n",
      "k:  3200, mse(train): 0.3076, mse(dev): 0.5897 | facc(train): 0.6665, facc(dev): 0.3902\n",
      "k:  3400, mse(train): 0.5263, mse(dev): 0.4978 | facc(train): 0.4650, facc(dev): 0.4938\n",
      "k:  3600, mse(train): 0.4455, mse(dev): 0.2814 | facc(train): 0.5332, facc(dev): 0.6933\n",
      "k:  3800, mse(train): 0.3838, mse(dev): 0.4499 | facc(train): 0.5970, facc(dev): 0.5115\n",
      "k:  4000, mse(train): 0.4978, mse(dev): 0.4495 | facc(train): 0.5015, facc(dev): 0.5390\n",
      "k:  4200, mse(train): 0.4896, mse(dev): 0.5325 | facc(train): 0.5075, facc(dev): 0.4544\n",
      "k:  4400, mse(train): 0.4488, mse(dev): 0.5024 | facc(train): 0.5403, facc(dev): 0.4952\n",
      "k:  4600, mse(train): 0.5454, mse(dev): 0.4046 | facc(train): 0.4357, facc(dev): 0.5783\n",
      "k:  4800, mse(train): 0.3645, mse(dev): 0.5316 | facc(train): 0.6117, facc(dev): 0.4475\n",
      "\n",
      "*******L1: Model Selection************************\n",
      "(start): Regularization-scale:  1000.0\n",
      "k:     0, mse(train): 0.2494, mse(dev): 0.6851 | facc(train): 0.4995, facc(dev): 0.3143\n"
     ]
    },
    {
     "name": "stderr",
     "output_type": "stream",
     "text": [
      "c:\\Users\\samue\\Desktop\\Machine Learning\\Workspace\\Logistic Regression\\1A2\\src\\archs_models.py:30: RuntimeWarning: overflow encountered in exp\n",
      "  return  1/(1 + np.exp(-v))\n"
     ]
    }
   ],
   "source": [
    "\n",
    "# for stepsize in lrs:\n",
    "for regsize in lregs:\n",
    "\n",
    "    print(f'\\n*******L{regtype}: Model Selection************************')\n",
    "    print('(start): Regularization-scale: ', regsize)\n",
    "    # print(W.T) # to debug mutability\n",
    "\n",
    "    # - modeldict: data structure that holds details of the trained model\n",
    "    modeldict = {'W': W.copy(), 'stepsize': stepsize,\n",
    "                 'reg_type': regtype, 'reg_size': regsize, 'epochs': epochs,\n",
    "                 'cols': traindata['cols'],\n",
    "                 'normalize': traindata['scalers'],\n",
    "                 'mse_train': None, 'mse_dev': None,\n",
    "                 'facc_train': None, 'facc_dev': None,\n",
    "                 'sparsity': None, 'bigk': bigks, 'WBigK': None, 'WBigK_feats': None\n",
    "                 }\n",
    "\n",
    "    # - train: iterative line search (full batch)\n",
    "    gradient_descent(modeldict, stdlogistic, traindata, devdata)\n",
    "    model_sels.append(modeldict)\n"
   ]
  },
  {
   "cell_type": "code",
   "execution_count": 5,
   "metadata": {},
   "outputs": [
    {
     "name": "stdout",
     "output_type": "stream",
     "text": [
      "MSE (Train): 0.5047 | (Validation): 0.5068\n",
      "Class Accuracy (Train): 0.4953 | (Validation): 0.4932\n",
      "Model Sparsity: 110\n",
      "Final Learned Weights\n",
      "Features (Top-5) with largest weight magnitude\n",
      "['dummy', 'Region_Code_44', 'Policy_Sales_Channel_55', 'Policy_Sales_Channel_158', 'Policy_Sales_Channel_136']\n",
      "[195.3148 -99.9999 99.9999 99.9997 99.9996]\n",
      "(end): ----\n",
      "\n"
     ]
    }
   ],
   "source": [
    "\n",
    "\n",
    "    if np.isfinite(modeldict['mse_train'][-1]):\n",
    "        print(f\"MSE (Train): {modeldict['mse_train'][-1]:2.4f} | \"\n",
    "              f\"(Validation): {modeldict['mse_dev'][-1]:2.4f}\")\n",
    "        print(f\"Class Accuracy (Train): {modeldict['facc_train'][-1]:2.4f} | \"\n",
    "              f\"(Validation): {modeldict['facc_dev'][-1]:2.4f}\")\n",
    "\n",
    "        # print(W.T)\n",
    "        print(f\"Model Sparsity: {modeldict['sparsity']}\")\n",
    "        print('Final Learned Weights')\n",
    "        # print((modeldict['W']).T)\n",
    "        # Print top 5 weighted features\n",
    "        print(\"Features (Top-5) with largest weight magnitude\")\n",
    "        print(modeldict['WBigK_feats'].tolist())\n",
    "        wbigk_str = np.array2string(modeldict['WBigK'].flatten(),\n",
    "                                    formatter={'float_kind': '{0:2.4f}'.format})\n",
    "        print(wbigk_str)\n",
    "        print('(end): ----\\n')\n",
    "\n",
    "\n"
   ]
  },
  {
   "cell_type": "code",
   "execution_count": 6,
   "metadata": {},
   "outputs": [
    {
     "name": "stdout",
     "output_type": "stream",
     "text": [
      "Regularization Plot...\t\n"
     ]
    },
    {
     "data": {
      "image/png": "[encoded data removed]",
      "text/plain": [
       "<Figure size 432x288 with 2 Axes>"
      ]
     },
     "metadata": {
      "needs_background": "light"
     },
     "output_type": "display_data"
    },
    {
     "name": "stdout",
     "output_type": "stream",
     "text": [
      "Done.\n",
      "\n",
      "Sparsity Plot...\t\n"
     ]
    },
    {
     "data": {
      "image/png": "[encoded data removed]",
      "text/plain": [
       "<Figure size 432x288 with 1 Axes>"
      ]
     },
     "metadata": {
      "needs_background": "light"
     },
     "output_type": "display_data"
    },
    {
     "name": "stdout",
     "output_type": "stream",
     "text": [
      "Done.\n",
      "\n"
     ]
    }
   ],
   "source": [
    "\n",
    "\n",
    "# Other Plots\n",
    "faccs_train = []\n",
    "faccs_dev = []\n",
    "regular_szs = []\n",
    "sparse_wts = []\n",
    "for mdl in model_sels:\n",
    "    faccs_train.append(mdl['facc_train'][-1])\n",
    "    faccs_dev.append(mdl['facc_dev'][-1])\n",
    "    sparse_wts.append(mdl['sparsity'])\n",
    "    regular_szs.append(mdl['reg_size'])\n",
    "\n",
    "print('Regularization Plot...\\t')\n",
    "fig, ax3 = plt.subplots(figsize=(6, 4), tight_layout=True)\n",
    "ax3.semilogx(regular_szs, faccs_train,\n",
    "             color='r', marker='o', markerfacecolor='m', zorder=2.5, alpha=0.5)\n",
    "ax3.set_ylabel(f'training accuracy', color='r')\n",
    "ax4 = ax3.twinx()\n",
    "ax4.semilogx(regular_szs, faccs_dev,\n",
    "             color='b', marker='o', markerfacecolor='m', zorder=2.5, alpha=0.5)\n",
    "ax4.set_ylabel(f'validation accuracy', color='b')\n",
    "ax3.set_xlabel(f'$\\\\lambda$, regularization size')\n",
    "ax3.set_title(f\"$\\\\mathcal{{L}}_{{{regtype:1d}}}$, $\\\\alpha = {stepsize:2.1g}$, epochs = {epochs}: Classification Accuracy\",\n",
    "              color='k', weight='bold', size=10)\n",
    "# plt.ion\n",
    "plt.savefig(figs_dir + f\"L{regtype}_trainvalcmp_plt.pdf\", bbox_inches='tight')\n",
    "plt.show(block=False)\n",
    "print('Done.\\n')\n",
    "\n",
    "\n",
    "print('Sparsity Plot...\\t')\n",
    "fig, ax5 = plt.subplots(figsize=(6, 4), tight_layout=True)\n",
    "ax5.semilogx(regular_szs, sparse_wts,\n",
    "             color='m', marker='o', markerfacecolor='r', zorder=2.5, alpha=0.5)\n",
    "ax5.set_xlabel(f'$\\\\lambda$, regularization size')\n",
    "ax5.set_ylabel(f'weight sparsity')\n",
    "ax5.set_title(f\"$\\\\mathcal{{L}}_{{{regtype:1d}}}$, Model Sparsity\",\n",
    "              color='k', weight='bold', size=10)\n",
    "# plt.ion\n",
    "plt.savefig(figs_dir + f\"L{regtype}_sparsityplt.pdf\", bbox_inches='tight')\n",
    "plt.show(block=False)\n",
    "print('Done.\\n')\n"
   ]
  }
 ],
 "metadata": {
  "interpreter": {
   "hash": "a7e555a1f04e95f62cde946e3efcdc8b3b0acb272fdb6e73a36250632bba5f66"
  },
  "kernelspec": {
   "display_name": "Python 3.10.4 64-bit",
   "language": "python",
   "name": "python3"
  },
  "language_info": {
   "codemirror_mode": {
    "name": "ipython",
    "version": 3
   },
   "file_extension": ".py",
   "mimetype": "text/x-python",
   "name": "python",
   "nbconvert_exporter": "python",
   "pygments_lexer": "ipython3",
   "version": "3.10.4"
  },
  "orig_nbformat": 4
 },
 "nbformat": 4,
 "nbformat_minor": 2
}
