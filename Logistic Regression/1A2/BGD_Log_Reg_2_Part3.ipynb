{
 "cells": [
  {
   "cell_type": "code",
   "execution_count": 1,
   "metadata": {},
   "outputs": [
    {
     "name": "stdout",
     "output_type": "stream",
     "text": [
      "c:\\Users\\samue\\Desktop\\Machine Learning\\Workspace\\Logistic Regression\\1A2\n"
     ]
    }
   ],
   "source": [
    "from src.infer_models import infer\n",
    "from src.preprocess import preprocess\n",
    "from src.archs_models import stdlogistic\n",
    "from src.opts_models_new import gradient_descent\n",
    "import os\n",
    "import sys\n",
    "import pathlib\n",
    "from pathlib import Path\n",
    "\n",
    "import numpy as np\n",
    "from numpy.core.shape_base import block\n",
    "import pandas as pd\n",
    "import seaborn as sns\n",
    "import matplotlib.pyplot as plt\n",
    "\n",
    "plt.rcParams.update({\n",
    "    \"text.usetex\": True,\n",
    "    \"font.family\": \"sans-serif\",\n",
    "    \"font.sans-serif\": [\"Computer Modern Sans Serif\"]})  # Avant Garde, Helvetica, Computer Modern Sans Serif\n",
    "\n",
    "np.set_printoptions(precision=4)\n",
    "np.set_printoptions(formatter={'float': \"{:0.4f}\".format})\n",
    "\n",
    "\n",
    "# Ensure path is referenced to this script's root\n",
    "# thisdir = os.path.dirname(__file__)\n",
    "thisdir = Path.cwd()\n",
    "# os.chdir(thisdir)\n",
    "os.chdir(sys.path[0])\n",
    "print(os.getcwd())\n",
    "\n",
    "figs_dir = os.path.join(thisdir, 'figs/')\n",
    "if not os.path.isdir(figs_dir):\n",
    "    os.makedirs(figs_dir)\n"
   ]
  },
  {
   "cell_type": "code",
   "execution_count": 2,
   "metadata": {},
   "outputs": [
    {
     "name": "stdout",
     "output_type": "stream",
     "text": [
      "data size (rows,columns) (6000, 198)\n",
      "                    Vehicle_Damage  Previously_Insured  Vehicle_Age_0  \\\n",
      "Vehicle_Damage            1.000000           -0.858465       0.305893   \n",
      "Previously_Insured       -0.858465            1.000000      -0.313266   \n",
      "Vehicle_Age_0             0.305893           -0.313266       1.000000   \n",
      "Vehicle_Age_1            -0.418453            0.418906      -0.855960   \n",
      "Vehicle_Age_2             0.177294           -0.164105      -0.348569   \n",
      "Response                  0.598229           -0.583561       0.255089   \n",
      "\n",
      "                    Vehicle_Age_1  Vehicle_Age_2  Response  \n",
      "Vehicle_Damage          -0.418453       0.177294  0.598229  \n",
      "Previously_Insured       0.418906      -0.164105 -0.583561  \n",
      "Vehicle_Age_0           -0.855960      -0.348569  0.255089  \n",
      "Vehicle_Age_1            1.000000      -0.186254 -0.341008  \n",
      "Vehicle_Age_2           -0.186254       1.000000  0.133442  \n",
      "Response                -0.341008       0.133442  1.000000  \n",
      "data size (rows,columns) (10000, 198)\n",
      "                    Vehicle_Damage  Previously_Insured  Vehicle_Age_0  \\\n",
      "Vehicle_Damage            1.000000           -0.853494       0.312304   \n",
      "Previously_Insured       -0.853494            1.000000      -0.306650   \n",
      "Vehicle_Age_0             0.312304           -0.306650       1.000000   \n",
      "Vehicle_Age_1            -0.421954            0.408671      -0.861005   \n",
      "Vehicle_Age_2             0.177401           -0.163749      -0.338647   \n",
      "Response                  0.600201           -0.589598       0.258971   \n",
      "\n",
      "                    Vehicle_Age_1  Vehicle_Age_2  Response  \n",
      "Vehicle_Damage          -0.421954       0.177401  0.600201  \n",
      "Previously_Insured       0.408671      -0.163749 -0.589598  \n",
      "Vehicle_Age_0           -0.861005      -0.338647  0.258971  \n",
      "Vehicle_Age_1            1.000000      -0.186967 -0.342723  \n",
      "Vehicle_Age_2           -0.186967       1.000000  0.133836  \n",
      "Response                -0.342723       0.133836  1.000000  \n"
     ]
    }
   ],
   "source": [
    "\n",
    "# Data Preprocessing\n",
    "# do major feature engineering - 0 | 1\n",
    "doengr = 0\n",
    "donormalize = 1\n",
    "\n",
    "# Train\n",
    "rawdata = 'csvs/IA2-train.csv'\n",
    "traindata, train_id = preprocess(rawdata, donormalize=donormalize, istrain=1,\n",
    "                                 traininfo=None, doengr=doengr)\n",
    "\n",
    "# View final data entering the model.\n",
    "# print(traindata['X'])\n",
    "# print(traindata['X'].shape)\n",
    "\n",
    "# Dev\n",
    "rawdata = 'csvs/IA2-dev.csv'\n",
    "devdata, dev_id = preprocess(rawdata, donormalize=donormalize, istrain=0,\n",
    "                             traininfo=traindata, doengr=doengr)\n",
    "\n"
   ]
  },
  {
   "cell_type": "code",
   "execution_count": 3,
   "metadata": {},
   "outputs": [],
   "source": [
    "\n",
    "# DEV: Model Training and Selection\n",
    "\n",
    "# - max. number of iterations (fixed) - epochs\n",
    "epochs = int(5e3)\n",
    "\n",
    "# - learning-rate (step-size) selection set\n",
    "# lrs =  [5e-3, 1e-2, 2e-2, 0.1, 0.5]\n",
    "\n",
    "# learning rate\n",
    "stepsize = 1e-1\n",
    "\n",
    "# - regularization scale size selection set\n",
    "lregs = [1e-3, 1e-2, 1e-1, 1, 1e1, 1e2, 1e3]\n",
    "\n",
    "# regsize = 0.01 # 1e-1 to 1e-2 to 1e-3\n",
    "\n",
    "# Turns out lists and dicts are passed by ref. in python.\n",
    "# They behave as global variables, modified in function they are passed to.\n",
    "\n",
    "# model's number of largest weighted features\n",
    "bigks = 5\n",
    "\n",
    "# list to hold all models\n",
    "model_sels = []\n",
    "\n",
    "# regularization rate\n",
    "# regtype = 1\n",
    "# regtype = 2\n",
    "regtype = 3\n",
    "\n",
    "# - random weight initialization\n",
    "W = np.random.uniform(0, 0.02, (traindata['cols'], 1))\n",
    "W[0] = np.zeros(shape=(1, 1))\n",
    "#print(W[0])\n"
   ]
  },
  {
   "cell_type": "code",
   "execution_count": 4,
   "metadata": {},
   "outputs": [
    {
     "name": "stdout",
     "output_type": "stream",
     "text": [
      "\n",
      "*******L3: Model Selection************************\n",
      "(start): Regularization-scale:  0.001\n",
      "k:     0, mse(train): 0.2510, mse(dev): 0.2413 | facc(train): 0.4952, facc(dev): 0.6983\n",
      "k:   200, mse(train): 0.1463, mse(dev): 0.1474 | facc(train): 0.7845, facc(dev): 0.7840\n",
      "k:   400, mse(train): 0.1445, mse(dev): 0.1461 | facc(train): 0.7880, facc(dev): 0.7863\n",
      "k:   600, mse(train): 0.1437, mse(dev): 0.1456 | facc(train): 0.7932, facc(dev): 0.7909\n",
      "k:   800, mse(train): 0.1432, mse(dev): 0.1454 | facc(train): 0.7940, facc(dev): 0.7924\n",
      "k:  1000, mse(train): 0.1429, mse(dev): 0.1452 | facc(train): 0.7943, facc(dev): 0.7930\n",
      "\n",
      "*******L3: Model Selection************************\n",
      "(start): Regularization-scale:  0.01\n",
      "k:     0, mse(train): 0.2510, mse(dev): 0.2415 | facc(train): 0.4952, facc(dev): 0.6992\n",
      "k:   200, mse(train): 0.1480, mse(dev): 0.1483 | facc(train): 0.7822, facc(dev): 0.7832\n",
      "\n",
      "*******L3: Model Selection************************\n",
      "(start): Regularization-scale:  0.1\n",
      "k:     0, mse(train): 0.2510, mse(dev): 0.2439 | facc(train): 0.4952, facc(dev): 0.6996\n",
      "\n",
      "*******L3: Model Selection************************\n",
      "(start): Regularization-scale:  1\n",
      "k:     0, mse(train): 0.2510, mse(dev): 0.2728 | facc(train): 0.4952, facc(dev): 0.3328\n",
      "k:   200, mse(train): 0.2436, mse(dev): 0.2564 | facc(train): 0.5782, facc(dev): 0.4053\n",
      "k:   400, mse(train): 0.2594, mse(dev): 0.2441 | facc(train): 0.4282, facc(dev): 0.6135\n",
      "k:   600, mse(train): 0.2493, mse(dev): 0.2592 | facc(train): 0.5183, facc(dev): 0.3454\n",
      "k:   800, mse(train): 0.2566, mse(dev): 0.2543 | facc(train): 0.3707, facc(dev): 0.4610\n",
      "k:  1000, mse(train): 0.2525, mse(dev): 0.2563 | facc(train): 0.4513, facc(dev): 0.4353\n",
      "k:  1200, mse(train): 0.2471, mse(dev): 0.2549 | facc(train): 0.5683, facc(dev): 0.4239\n",
      "k:  1400, mse(train): 0.2556, mse(dev): 0.2467 | facc(train): 0.4408, facc(dev): 0.5742\n",
      "k:  1600, mse(train): 0.2461, mse(dev): 0.2592 | facc(train): 0.5325, facc(dev): 0.4567\n",
      "k:  1800, mse(train): 0.2575, mse(dev): 0.2525 | facc(train): 0.4342, facc(dev): 0.4838\n",
      "k:  2000, mse(train): 0.2570, mse(dev): 0.2570 | facc(train): 0.3575, facc(dev): 0.4129\n",
      "k:  2200, mse(train): 0.2544, mse(dev): 0.2505 | facc(train): 0.4703, facc(dev): 0.4923\n",
      "k:  2400, mse(train): 0.2574, mse(dev): 0.2485 | facc(train): 0.4653, facc(dev): 0.5360\n",
      "k:  2600, mse(train): 0.2534, mse(dev): 0.2600 | facc(train): 0.4753, facc(dev): 0.4400\n",
      "k:  2800, mse(train): 0.2495, mse(dev): 0.2524 | facc(train): 0.5018, facc(dev): 0.5022\n",
      "k:  3000, mse(train): 0.2592, mse(dev): 0.2455 | facc(train): 0.4143, facc(dev): 0.5881\n",
      "k:  3200, mse(train): 0.2500, mse(dev): 0.2544 | facc(train): 0.5242, facc(dev): 0.4380\n",
      "k:  3400, mse(train): 0.2603, mse(dev): 0.2450 | facc(train): 0.3407, facc(dev): 0.5814\n",
      "k:  3600, mse(train): 0.2527, mse(dev): 0.2655 | facc(train): 0.4783, facc(dev): 0.3478\n",
      "k:  3800, mse(train): 0.2425, mse(dev): 0.2595 | facc(train): 0.6177, facc(dev): 0.3801\n",
      "k:  4000, mse(train): 0.2619, mse(dev): 0.2466 | facc(train): 0.3927, facc(dev): 0.5429\n",
      "k:  4200, mse(train): 0.2494, mse(dev): 0.2578 | facc(train): 0.5272, facc(dev): 0.3942\n",
      "k:  4400, mse(train): 0.2545, mse(dev): 0.2522 | facc(train): 0.4430, facc(dev): 0.4794\n",
      "k:  4600, mse(train): 0.2547, mse(dev): 0.2577 | facc(train): 0.4383, facc(dev): 0.4430\n",
      "k:  4800, mse(train): 0.2454, mse(dev): 0.2567 | facc(train): 0.5987, facc(dev): 0.4149\n",
      "\n",
      "*******L3: Model Selection************************\n",
      "(start): Regularization-scale:  10.0\n",
      "k:     0, mse(train): 0.2510, mse(dev): 0.5651 | facc(train): 0.4952, facc(dev): 0.3215\n",
      "k:   200, mse(train): 0.2358, mse(dev): 0.4432 | facc(train): 0.6822, facc(dev): 0.3351\n",
      "k:   400, mse(train): 0.2358, mse(dev): 0.4432 | facc(train): 0.6822, facc(dev): 0.3352\n",
      "k:   600, mse(train): 0.2358, mse(dev): 0.4432 | facc(train): 0.6822, facc(dev): 0.3352\n",
      "k:   800, mse(train): 0.2358, mse(dev): 0.4432 | facc(train): 0.6822, facc(dev): 0.3352\n",
      "k:  1000, mse(train): 0.2358, mse(dev): 0.4432 | facc(train): 0.6822, facc(dev): 0.3352\n",
      "k:  1200, mse(train): 0.2358, mse(dev): 0.4432 | facc(train): 0.6822, facc(dev): 0.3352\n",
      "k:  1400, mse(train): 0.2358, mse(dev): 0.4432 | facc(train): 0.6822, facc(dev): 0.3352\n",
      "k:  1600, mse(train): 0.2358, mse(dev): 0.4432 | facc(train): 0.6822, facc(dev): 0.3352\n",
      "k:  1800, mse(train): 0.2358, mse(dev): 0.4432 | facc(train): 0.6822, facc(dev): 0.3352\n",
      "k:  2000, mse(train): 0.2358, mse(dev): 0.4432 | facc(train): 0.6822, facc(dev): 0.3352\n",
      "k:  2200, mse(train): 0.2358, mse(dev): 0.4432 | facc(train): 0.6822, facc(dev): 0.3352\n",
      "k:  2400, mse(train): 0.2358, mse(dev): 0.4432 | facc(train): 0.6822, facc(dev): 0.3352\n",
      "k:  2600, mse(train): 0.2358, mse(dev): 0.4432 | facc(train): 0.6822, facc(dev): 0.3352\n",
      "k:  2800, mse(train): 0.2358, mse(dev): 0.4432 | facc(train): 0.6822, facc(dev): 0.3352\n",
      "k:  3000, mse(train): 0.2358, mse(dev): 0.4432 | facc(train): 0.6822, facc(dev): 0.3352\n",
      "k:  3200, mse(train): 0.2358, mse(dev): 0.4432 | facc(train): 0.6822, facc(dev): 0.3352\n",
      "k:  3400, mse(train): 0.2358, mse(dev): 0.4432 | facc(train): 0.6822, facc(dev): 0.3352\n",
      "k:  3600, mse(train): 0.2358, mse(dev): 0.4432 | facc(train): 0.6822, facc(dev): 0.3352\n",
      "k:  3800, mse(train): 0.2358, mse(dev): 0.4432 | facc(train): 0.6822, facc(dev): 0.3352\n",
      "k:  4000, mse(train): 0.2358, mse(dev): 0.4432 | facc(train): 0.6822, facc(dev): 0.3352\n",
      "k:  4200, mse(train): 0.2358, mse(dev): 0.4432 | facc(train): 0.6822, facc(dev): 0.3352\n",
      "k:  4400, mse(train): 0.2358, mse(dev): 0.4432 | facc(train): 0.6822, facc(dev): 0.3352\n",
      "k:  4600, mse(train): 0.2358, mse(dev): 0.4432 | facc(train): 0.6822, facc(dev): 0.3352\n",
      "k:  4800, mse(train): 0.2358, mse(dev): 0.4432 | facc(train): 0.6822, facc(dev): 0.3352\n",
      "\n",
      "*******L3: Model Selection************************\n",
      "(start): Regularization-scale:  100.0\n",
      "k:     0, mse(train): 0.2510, mse(dev): 0.6719 | facc(train): 0.4952, facc(dev): 0.3209\n"
     ]
    },
    {
     "name": "stderr",
     "output_type": "stream",
     "text": [
      "c:\\Users\\samue\\Desktop\\Machine Learning\\Workspace\\Logistic Regression\\1A2\\src\\archs_models.py:30: RuntimeWarning: overflow encountered in exp\n",
      "  return  1/(1 + np.exp(-v))\n"
     ]
    },
    {
     "name": "stdout",
     "output_type": "stream",
     "text": [
      "k:   200, mse(train): 0.3232, mse(dev): 0.6787 | facc(train): 0.6768, facc(dev): 0.3213\n",
      "k:   400, mse(train): 0.3232, mse(dev): 0.6787 | facc(train): 0.6768, facc(dev): 0.3213\n",
      "k:   600, mse(train): 0.3232, mse(dev): 0.6787 | facc(train): 0.6768, facc(dev): 0.3213\n",
      "k:   800, mse(train): 0.3232, mse(dev): 0.6787 | facc(train): 0.6768, facc(dev): 0.3213\n",
      "k:  1000, mse(train): 0.3232, mse(dev): 0.6787 | facc(train): 0.6768, facc(dev): 0.3213\n",
      "k:  1200, mse(train): 0.3232, mse(dev): 0.6787 | facc(train): 0.6768, facc(dev): 0.3213\n",
      "k:  1400, mse(train): 0.3232, mse(dev): 0.6787 | facc(train): 0.6768, facc(dev): 0.3213\n",
      "k:  1600, mse(train): 0.3232, mse(dev): 0.6787 | facc(train): 0.6768, facc(dev): 0.3213\n",
      "k:  1800, mse(train): 0.3232, mse(dev): 0.6787 | facc(train): 0.6768, facc(dev): 0.3213\n",
      "k:  2000, mse(train): 0.3232, mse(dev): 0.6787 | facc(train): 0.6768, facc(dev): 0.3213\n",
      "k:  2200, mse(train): 0.3232, mse(dev): 0.6787 | facc(train): 0.6768, facc(dev): 0.3213\n",
      "k:  2400, mse(train): 0.3232, mse(dev): 0.6787 | facc(train): 0.6768, facc(dev): 0.3213\n",
      "k:  2600, mse(train): 0.3232, mse(dev): 0.6787 | facc(train): 0.6768, facc(dev): 0.3213\n",
      "k:  2800, mse(train): 0.3232, mse(dev): 0.6787 | facc(train): 0.6768, facc(dev): 0.3213\n",
      "k:  3000, mse(train): 0.3232, mse(dev): 0.6787 | facc(train): 0.6768, facc(dev): 0.3213\n",
      "k:  3200, mse(train): 0.3232, mse(dev): 0.6787 | facc(train): 0.6768, facc(dev): 0.3213\n",
      "k:  3400, mse(train): 0.3232, mse(dev): 0.6787 | facc(train): 0.6768, facc(dev): 0.3213\n",
      "k:  3600, mse(train): 0.3232, mse(dev): 0.6787 | facc(train): 0.6768, facc(dev): 0.3213\n",
      "k:  3800, mse(train): 0.3232, mse(dev): 0.6787 | facc(train): 0.6768, facc(dev): 0.3213\n",
      "k:  4000, mse(train): 0.3232, mse(dev): 0.6787 | facc(train): 0.6768, facc(dev): 0.3213\n",
      "k:  4200, mse(train): 0.3232, mse(dev): 0.6787 | facc(train): 0.6768, facc(dev): 0.3213\n",
      "k:  4400, mse(train): 0.3232, mse(dev): 0.6787 | facc(train): 0.6768, facc(dev): 0.3213\n",
      "k:  4600, mse(train): 0.3232, mse(dev): 0.6787 | facc(train): 0.6768, facc(dev): 0.3213\n",
      "k:  4800, mse(train): 0.3232, mse(dev): 0.6787 | facc(train): 0.6768, facc(dev): 0.3213\n",
      "\n",
      "*******L3: Model Selection************************\n",
      "(start): Regularization-scale:  1000.0\n",
      "k:     0, mse(train): 0.2510, mse(dev): 0.6784 | facc(train): 0.4952, facc(dev): 0.3209\n",
      "k:   200, mse(train): 0.3227, mse(dev): 0.6792 | facc(train): 0.6773, facc(dev): 0.3208\n"
     ]
    },
    {
     "name": "stderr",
     "output_type": "stream",
     "text": [
      "c:\\Users\\samue\\Desktop\\Machine Learning\\Workspace\\Logistic Regression\\1A2\\src\\archs_models.py:29: RuntimeWarning: overflow encountered in matmul\n",
      "  v = X@W\n",
      "c:\\Users\\samue\\Desktop\\Machine Learning\\Workspace\\Logistic Regression\\1A2\\src\\opts_models_new.py:112: RuntimeWarning: overflow encountered in multiply\n",
      "  W -= (lambda_lr*lambda_reg)*(elasticW)\n",
      "c:\\Users\\samue\\Desktop\\Machine Learning\\Workspace\\Logistic Regression\\1A2\\src\\archs_models.py:29: RuntimeWarning: invalid value encountered in matmul\n",
      "  v = X@W\n"
     ]
    },
    {
     "name": "stdout",
     "output_type": "stream",
     "text": [
      "k:   400, mse(train): nan, mse(dev): nan | facc(train): 0.5047, facc(dev): 0.5066\n",
      "k:   600, mse(train): nan, mse(dev): nan | facc(train): 0.5047, facc(dev): 0.5066\n",
      "k:   800, mse(train): nan, mse(dev): nan | facc(train): 0.5047, facc(dev): 0.5066\n",
      "k:  1000, mse(train): nan, mse(dev): nan | facc(train): 0.5047, facc(dev): 0.5066\n",
      "k:  1200, mse(train): nan, mse(dev): nan | facc(train): 0.5047, facc(dev): 0.5066\n",
      "k:  1400, mse(train): nan, mse(dev): nan | facc(train): 0.5047, facc(dev): 0.5066\n",
      "k:  1600, mse(train): nan, mse(dev): nan | facc(train): 0.5047, facc(dev): 0.5066\n",
      "k:  1800, mse(train): nan, mse(dev): nan | facc(train): 0.5047, facc(dev): 0.5066\n",
      "k:  2000, mse(train): nan, mse(dev): nan | facc(train): 0.5047, facc(dev): 0.5066\n",
      "k:  2200, mse(train): nan, mse(dev): nan | facc(train): 0.5047, facc(dev): 0.5066\n",
      "k:  2400, mse(train): nan, mse(dev): nan | facc(train): 0.5047, facc(dev): 0.5066\n",
      "k:  2600, mse(train): nan, mse(dev): nan | facc(train): 0.5047, facc(dev): 0.5066\n",
      "k:  2800, mse(train): nan, mse(dev): nan | facc(train): 0.5047, facc(dev): 0.5066\n",
      "k:  3000, mse(train): nan, mse(dev): nan | facc(train): 0.5047, facc(dev): 0.5066\n",
      "k:  3200, mse(train): nan, mse(dev): nan | facc(train): 0.5047, facc(dev): 0.5066\n",
      "k:  3400, mse(train): nan, mse(dev): nan | facc(train): 0.5047, facc(dev): 0.5066\n",
      "k:  3600, mse(train): nan, mse(dev): nan | facc(train): 0.5047, facc(dev): 0.5066\n",
      "k:  3800, mse(train): nan, mse(dev): nan | facc(train): 0.5047, facc(dev): 0.5066\n",
      "k:  4000, mse(train): nan, mse(dev): nan | facc(train): 0.5047, facc(dev): 0.5066\n",
      "k:  4200, mse(train): nan, mse(dev): nan | facc(train): 0.5047, facc(dev): 0.5066\n",
      "k:  4400, mse(train): nan, mse(dev): nan | facc(train): 0.5047, facc(dev): 0.5066\n",
      "k:  4600, mse(train): nan, mse(dev): nan | facc(train): 0.5047, facc(dev): 0.5066\n",
      "k:  4800, mse(train): nan, mse(dev): nan | facc(train): 0.5047, facc(dev): 0.5066\n"
     ]
    }
   ],
   "source": [
    "\n",
    "# for stepsize in lrs:\n",
    "for regsize in lregs:\n",
    "\n",
    "    print(f'\\n*******L{regtype}: Model Selection************************')\n",
    "    print('(start): Regularization-scale: ', regsize)\n",
    "    # print(W.T) # to debug mutability\n",
    "\n",
    "    # - modeldict: data structure that holds details of the trained model\n",
    "    modeldict = {'W': W.copy(), 'stepsize': stepsize,\n",
    "                 'reg_type': regtype, 'reg_size': regsize, 'epochs': epochs,\n",
    "                 'cols': traindata['cols'],\n",
    "                 'normalize': traindata['scalers'],\n",
    "                 'mse_train': None, 'mse_dev': None,\n",
    "                 'facc_train': None, 'facc_dev': None,\n",
    "                 'sparsity': None, \n",
    "                 'bigk': bigks, 'WBigK': None, 'WBigK_feats': None\n",
    "                 }\n",
    "\n",
    "    # - train: iterative line search (full batch)\n",
    "    gradient_descent(modeldict, stdlogistic, traindata, devdata)\n",
    "    model_sels.append(modeldict)\n"
   ]
  },
  {
   "cell_type": "code",
   "execution_count": 5,
   "metadata": {},
   "outputs": [],
   "source": [
    "\n",
    "\n",
    "    if np.isfinite(modeldict['mse_train'][-1]):\n",
    "        print(f\"MSE (Train): {modeldict['mse_train'][-1]:2.4f} | \"\n",
    "              f\"(Validation): {modeldict['mse_dev'][-1]:2.4f}\")\n",
    "        print(f\"Class Accuracy (Train): {modeldict['facc_train'][-1]:2.4f} | \"\n",
    "              f\"(Validation): {modeldict['facc_dev'][-1]:2.4f}\")\n",
    "\n",
    "        # print(W.T)\n",
    "        print(f\"Model Sparsity: {modeldict['sparsity']}\")\n",
    "        print('Final Learned Weights')\n",
    "        # print((modeldict['W']).T)\n",
    "        # Print top 5 weighted features\n",
    "        print(\"Features (Top-5) with largest weight magnitude\")\n",
    "        print(modeldict['WBigK_feats'].tolist())\n",
    "        wbigk_str = np.array2string(modeldict['WBigK'].flatten(),\n",
    "                                    formatter={'float_kind': '{0:2.4f}'.format})\n",
    "        #print(wbigk_str)\n",
    "        print('(end): ----\\n')\n",
    "\n",
    "\n"
   ]
  },
  {
   "cell_type": "code",
   "execution_count": 6,
   "metadata": {},
   "outputs": [
    {
     "name": "stdout",
     "output_type": "stream",
     "text": [
      "Regularization Plot...\t\n"
     ]
    },
    {
     "data": {
      "image/png": "[encoded data removed]",
      "text/plain": [
       "<Figure size 432x288 with 2 Axes>"
      ]
     },
     "metadata": {
      "needs_background": "light"
     },
     "output_type": "display_data"
    },
    {
     "name": "stdout",
     "output_type": "stream",
     "text": [
      "Done.\n",
      "\n",
      "Sparsity Plot...\t\n"
     ]
    },
    {
     "data": {
      "image/png": "[encoded data removed]",
      "text/plain": [
       "<Figure size 432x288 with 1 Axes>"
      ]
     },
     "metadata": {
      "needs_background": "light"
     },
     "output_type": "display_data"
    },
    {
     "name": "stdout",
     "output_type": "stream",
     "text": [
      "Done.\n",
      "\n"
     ]
    }
   ],
   "source": [
    "\n",
    "\n",
    "# Other Plots\n",
    "faccs_train = []\n",
    "faccs_dev = []\n",
    "regular_szs = []\n",
    "sparse_wts = []\n",
    "for mdl in model_sels:\n",
    "    faccs_train.append(mdl['facc_train'][-1])\n",
    "    faccs_dev.append(mdl['facc_dev'][-1])\n",
    "    sparse_wts.append(mdl['sparsity'])\n",
    "    regular_szs.append(mdl['reg_size'])\n",
    "\n",
    "print('Regularization Plot...\\t')\n",
    "fig, ax3 = plt.subplots(figsize=(6, 4), tight_layout=True)\n",
    "ax3.semilogx(regular_szs, faccs_train,\n",
    "             color='r', marker='o', markerfacecolor='m', zorder=2.5, alpha=0.5)\n",
    "ax3.set_ylabel(f'training accuracy', color='r')\n",
    "ax4 = ax3.twinx()\n",
    "ax4.semilogx(regular_szs, faccs_dev,\n",
    "             color='b', marker='o', markerfacecolor='m', zorder=2.5, alpha=0.5)\n",
    "ax4.set_ylabel(f'validation accuracy', color='b')\n",
    "ax3.set_xlabel(f'$\\\\lambda$, regularization size')\n",
    "ax3.set_title(f\"$\\\\mathcal{{L}}_{{{regtype:1d}}}$, $\\\\alpha = {stepsize:2.1g}$, epochs = {epochs}: Classification Accuracy\",\n",
    "              color='k', weight='bold', size=10)\n",
    "# plt.ion\n",
    "plt.savefig(figs_dir + f\"L{regtype}_trainvalcmp_plt.pdf\", bbox_inches='tight')\n",
    "plt.show(block=False)\n",
    "print('Done.\\n')\n",
    "\n",
    "\n",
    "print('Sparsity Plot...\\t')\n",
    "fig, ax5 = plt.subplots(figsize=(6, 4), tight_layout=True)\n",
    "ax5.semilogx(regular_szs, sparse_wts,\n",
    "             color='m', marker='o', markerfacecolor='r', zorder=2.5, alpha=0.5)\n",
    "ax5.set_xlabel(f'$\\\\lambda$, regularization size')\n",
    "ax5.set_ylabel(f'weight sparsity')\n",
    "ax5.set_title(f\"$\\\\mathcal{{L}}_{{{regtype:1d}}}$, Model Sparsity\",\n",
    "              color='k', weight='bold', size=10)\n",
    "# plt.ion\n",
    "plt.savefig(figs_dir + f\"L{regtype}_sparsityplt.pdf\", bbox_inches='tight')\n",
    "plt.show(block=False)\n",
    "print('Done.\\n')\n"
   ]
  }
 ],
 "metadata": {
  "interpreter": {
   "hash": "a7e555a1f04e95f62cde946e3efcdc8b3b0acb272fdb6e73a36250632bba5f66"
  },
  "kernelspec": {
   "display_name": "Python 3.10.4 64-bit",
   "language": "python",
   "name": "python3"
  },
  "language_info": {
   "codemirror_mode": {
    "name": "ipython",
    "version": 3
   },
   "file_extension": ".py",
   "mimetype": "text/x-python",
   "name": "python",
   "nbconvert_exporter": "python",
   "pygments_lexer": "ipython3",
   "version": "3.10.4"
  },
  "orig_nbformat": 4
 },
 "nbformat": 4,
 "nbformat_minor": 2
}
