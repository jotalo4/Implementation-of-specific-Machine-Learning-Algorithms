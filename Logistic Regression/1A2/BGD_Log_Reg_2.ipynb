{
 "cells": [
  {
   "cell_type": "code",
   "execution_count": 1,
   "metadata": {},
   "outputs": [
    {
     "name": "stdout",
     "output_type": "stream",
     "text": [
      "c:\\Users\\samue\\Desktop\\Machine Learning\\Workspace\\Logistic Regression\\1A2\n"
     ]
    }
   ],
   "source": [
    "from src.infer_models import infer\n",
    "from src.preprocess import preprocess\n",
    "from src.archs_models import stdlogistic\n",
    "from src.opts_models_new import gradient_descent\n",
    "import os\n",
    "import sys\n",
    "import pathlib\n",
    "from pathlib import Path\n",
    "\n",
    "import numpy as np\n",
    "from numpy.core.shape_base import block\n",
    "import pandas as pd\n",
    "import seaborn as sns\n",
    "import matplotlib.pyplot as plt\n",
    "\n",
    "plt.rcParams.update({\n",
    "    \"text.usetex\": True,\n",
    "    \"font.family\": \"sans-serif\",\n",
    "    \"font.sans-serif\": [\"Computer Modern Sans Serif\"]})  # Avant Garde, Helvetica, Computer Modern Sans Serif\n",
    "\n",
    "np.set_printoptions(precision=4)\n",
    "np.set_printoptions(formatter={'float': \"{:0.4f}\".format})\n",
    "\n",
    "\n",
    "# Ensure path is referenced to this script's root\n",
    "# thisdir = os.path.dirname(__file__)\n",
    "thisdir = Path.cwd()\n",
    "# os.chdir(thisdir)\n",
    "os.chdir(sys.path[0])\n",
    "print(os.getcwd())\n",
    "\n",
    "figs_dir = os.path.join(thisdir, 'figs/')\n",
    "if not os.path.isdir(figs_dir):\n",
    "    os.makedirs(figs_dir)\n"
   ]
  },
  {
   "cell_type": "code",
   "execution_count": 2,
   "metadata": {},
   "outputs": [
    {
     "name": "stdout",
     "output_type": "stream",
     "text": [
      "data size (rows,columns) (6000, 198)\n",
      "                    Vehicle_Damage  Previously_Insured  Vehicle_Age_0  \\\n",
      "Vehicle_Damage            1.000000           -0.858465       0.305893   \n",
      "Previously_Insured       -0.858465            1.000000      -0.313266   \n",
      "Vehicle_Age_0             0.305893           -0.313266       1.000000   \n",
      "Vehicle_Age_1            -0.418453            0.418906      -0.855960   \n",
      "Vehicle_Age_2             0.177294           -0.164105      -0.348569   \n",
      "Response                  0.598229           -0.583561       0.255089   \n",
      "\n",
      "                    Vehicle_Age_1  Vehicle_Age_2  Response  \n",
      "Vehicle_Damage          -0.418453       0.177294  0.598229  \n",
      "Previously_Insured       0.418906      -0.164105 -0.583561  \n",
      "Vehicle_Age_0           -0.855960      -0.348569  0.255089  \n",
      "Vehicle_Age_1            1.000000      -0.186254 -0.341008  \n",
      "Vehicle_Age_2           -0.186254       1.000000  0.133442  \n",
      "Response                -0.341008       0.133442  1.000000  \n",
      "data size (rows,columns) (10000, 198)\n",
      "                    Vehicle_Damage  Previously_Insured  Vehicle_Age_0  \\\n",
      "Vehicle_Damage            1.000000           -0.853494       0.312304   \n",
      "Previously_Insured       -0.853494            1.000000      -0.306650   \n",
      "Vehicle_Age_0             0.312304           -0.306650       1.000000   \n",
      "Vehicle_Age_1            -0.421954            0.408671      -0.861005   \n",
      "Vehicle_Age_2             0.177401           -0.163749      -0.338647   \n",
      "Response                  0.600201           -0.589598       0.258971   \n",
      "\n",
      "                    Vehicle_Age_1  Vehicle_Age_2  Response  \n",
      "Vehicle_Damage          -0.421954       0.177401  0.600201  \n",
      "Previously_Insured       0.408671      -0.163749 -0.589598  \n",
      "Vehicle_Age_0           -0.861005      -0.338647  0.258971  \n",
      "Vehicle_Age_1            1.000000      -0.186967 -0.342723  \n",
      "Vehicle_Age_2           -0.186967       1.000000  0.133836  \n",
      "Response                -0.342723       0.133836  1.000000  \n"
     ]
    }
   ],
   "source": [
    "\n",
    "# Data Preprocessing\n",
    "# do major feature engineering - 0 | 1\n",
    "doengr = 0\n",
    "donormalize = 1\n",
    "\n",
    "# We can view the Traindata and devdata entering the model.\n",
    "# Train\n",
    "rawdata = 'csvs/IA2-train.csv'\n",
    "traindata, train_id = preprocess(rawdata, donormalize=donormalize, istrain=1,\n",
    "                                 traininfo=None, doengr=doengr)\n",
    "\n",
    "# Dev\n",
    "rawdata = 'csvs/IA2-dev.csv'\n",
    "devdata, dev_id = preprocess(rawdata, donormalize=donormalize, istrain=0,\n",
    "                             traininfo=traindata, doengr=doengr)\n",
    "\n"
   ]
  },
  {
   "cell_type": "code",
   "execution_count": 3,
   "metadata": {},
   "outputs": [],
   "source": [
    "\n",
    "# DEV: Model Training and Selection\n",
    "\n",
    "# - max. number of iterations (fixed) - epochs\n",
    "epochs = int(5e3)\n",
    "\n",
    "# - learning-rate (step-size) selection set\n",
    "# lrs =  [5e-3, 1e-2, 2e-2, 0.1, 0.5]\n",
    "\n",
    "# learning rate\n",
    "stepsize = 1e-1\n",
    "\n",
    "# - regularization scale size selection set\n",
    "lregs = [1e-3, 1e-2, 1e-1, 1, 1e1, 1e2, 1e3]\n",
    "\n",
    "# regsize = 0.01 # 1e-1 to 1e-2 to 1e-3\n",
    "\n",
    "# Turns out lists and dicts are passed by ref. in python.\n",
    "# They behave as global variables, modified in function they are passed to.\n",
    "\n",
    "# model's number of largest weighted features\n",
    "bigks = 5\n",
    "\n",
    "# list to hold all models\n",
    "model_sels = []\n",
    "\n",
    "# regularization rate\n",
    "# regtype = 1\n",
    "regtype = 2\n",
    "# regtype = 3\n",
    "\n",
    "# - random weight initialization\n",
    "W = np.random.uniform(0, 0.02, (traindata['cols'], 1))\n",
    "W[0] = np.zeros(shape=(1, 1))\n",
    "#print(W[0])\n"
   ]
  },
  {
   "cell_type": "code",
   "execution_count": 4,
   "metadata": {},
   "outputs": [
    {
     "name": "stdout",
     "output_type": "stream",
     "text": [
      "\n",
      "*******L2: Model Selection************************\n",
      "(start): Regularization-scale:  0.001\n",
      "k:     0, mse(train): 0.2498, mse(dev): 0.2403 | facc(train): 0.4967, facc(dev): 0.6870\n",
      "k:   200, mse(train): 0.1461, mse(dev): 0.1474 | facc(train): 0.7852, facc(dev): 0.7841\n",
      "k:   400, mse(train): 0.1442, mse(dev): 0.1461 | facc(train): 0.7902, facc(dev): 0.7880\n",
      "k:   600, mse(train): 0.1433, mse(dev): 0.1456 | facc(train): 0.7947, facc(dev): 0.7922\n",
      "k:   800, mse(train): 0.1428, mse(dev): 0.1454 | facc(train): 0.7947, facc(dev): 0.7934\n",
      "k:  1000, mse(train): 0.1424, mse(dev): 0.1452 | facc(train): 0.7957, facc(dev): 0.7935\n",
      "k:  1200, mse(train): 0.1421, mse(dev): 0.1452 | facc(train): 0.7967, facc(dev): 0.7940\n",
      "\n",
      "*******L2: Model Selection************************\n",
      "(start): Regularization-scale:  0.01\n",
      "k:     0, mse(train): 0.2498, mse(dev): 0.2403 | facc(train): 0.4967, facc(dev): 0.6870\n",
      "k:   200, mse(train): 0.1468, mse(dev): 0.1479 | facc(train): 0.7852, facc(dev): 0.7845\n",
      "k:   400, mse(train): 0.1450, mse(dev): 0.1466 | facc(train): 0.7885, facc(dev): 0.7870\n",
      "k:   600, mse(train): 0.1443, mse(dev): 0.1462 | facc(train): 0.7930, facc(dev): 0.7913\n",
      "k:   800, mse(train): 0.1439, mse(dev): 0.1460 | facc(train): 0.7948, facc(dev): 0.7925\n",
      "\n",
      "*******L2: Model Selection************************\n",
      "(start): Regularization-scale:  0.1\n",
      "k:     0, mse(train): 0.2498, mse(dev): 0.2404 | facc(train): 0.4967, facc(dev): 0.6869\n",
      "k:   200, mse(train): 0.1557, mse(dev): 0.1561 | facc(train): 0.7827, facc(dev): 0.7854\n",
      "\n",
      "*******L2: Model Selection************************\n",
      "(start): Regularization-scale:  1\n",
      "k:     0, mse(train): 0.2498, mse(dev): 0.2412 | facc(train): 0.4967, facc(dev): 0.6870\n",
      "\n",
      "*******L2: Model Selection************************\n",
      "(start): Regularization-scale:  10.0\n",
      "k:     0, mse(train): 0.2498, mse(dev): 0.2500 | facc(train): 0.4967, facc(dev): 0.5066\n",
      "\n",
      "*******L2: Model Selection************************\n",
      "(start): Regularization-scale:  100.0\n",
      "k:     0, mse(train): 0.2498, mse(dev): 0.3710 | facc(train): 0.4967, facc(dev): 0.2938\n"
     ]
    },
    {
     "name": "stderr",
     "output_type": "stream",
     "text": [
      "c:\\Users\\samue\\Desktop\\Machine Learning\\Workspace\\Logistic Regression\\1A2\\src\\archs_models.py:30: RuntimeWarning: overflow encountered in exp\n",
      "  return  1/(1 + np.exp(-v))\n",
      "c:\\Users\\samue\\Desktop\\Machine Learning\\Workspace\\Logistic Regression\\1A2\\src\\opts_models_new.py:105: RuntimeWarning: overflow encountered in multiply\n",
      "  W[0] = W[0] + (lambda_lr*lambda_reg)*W[0]\n",
      "c:\\Users\\samue\\Desktop\\Machine Learning\\Workspace\\Logistic Regression\\1A2\\src\\opts_models_new.py:104: RuntimeWarning: invalid value encountered in subtract\n",
      "  W = W - (lambda_lr*lambda_reg)*W\n"
     ]
    },
    {
     "name": "stdout",
     "output_type": "stream",
     "text": [
      "k:   200, mse(train): nan, mse(dev): nan | facc(train): 0.5047, facc(dev): 0.5066\n",
      "k:   400, mse(train): nan, mse(dev): nan | facc(train): 0.5047, facc(dev): 0.5066\n",
      "k:   600, mse(train): nan, mse(dev): nan | facc(train): 0.5047, facc(dev): 0.5066\n",
      "k:   800, mse(train): nan, mse(dev): nan | facc(train): 0.5047, facc(dev): 0.5066\n",
      "k:  1000, mse(train): nan, mse(dev): nan | facc(train): 0.5047, facc(dev): 0.5066\n",
      "k:  1200, mse(train): nan, mse(dev): nan | facc(train): 0.5047, facc(dev): 0.5066\n",
      "k:  1400, mse(train): nan, mse(dev): nan | facc(train): 0.5047, facc(dev): 0.5066\n",
      "k:  1600, mse(train): nan, mse(dev): nan | facc(train): 0.5047, facc(dev): 0.5066\n",
      "k:  1800, mse(train): nan, mse(dev): nan | facc(train): 0.5047, facc(dev): 0.5066\n",
      "k:  2000, mse(train): nan, mse(dev): nan | facc(train): 0.5047, facc(dev): 0.5066\n",
      "k:  2200, mse(train): nan, mse(dev): nan | facc(train): 0.5047, facc(dev): 0.5066\n",
      "k:  2400, mse(train): nan, mse(dev): nan | facc(train): 0.5047, facc(dev): 0.5066\n",
      "k:  2600, mse(train): nan, mse(dev): nan | facc(train): 0.5047, facc(dev): 0.5066\n",
      "k:  2800, mse(train): nan, mse(dev): nan | facc(train): 0.5047, facc(dev): 0.5066\n",
      "k:  3000, mse(train): nan, mse(dev): nan | facc(train): 0.5047, facc(dev): 0.5066\n",
      "k:  3200, mse(train): nan, mse(dev): nan | facc(train): 0.5047, facc(dev): 0.5066\n",
      "k:  3400, mse(train): nan, mse(dev): nan | facc(train): 0.5047, facc(dev): 0.5066\n",
      "k:  3600, mse(train): nan, mse(dev): nan | facc(train): 0.5047, facc(dev): 0.5066\n",
      "k:  3800, mse(train): nan, mse(dev): nan | facc(train): 0.5047, facc(dev): 0.5066\n",
      "k:  4000, mse(train): nan, mse(dev): nan | facc(train): 0.5047, facc(dev): 0.5066\n",
      "k:  4200, mse(train): nan, mse(dev): nan | facc(train): 0.5047, facc(dev): 0.5066\n",
      "k:  4400, mse(train): nan, mse(dev): nan | facc(train): 0.5047, facc(dev): 0.5066\n",
      "k:  4600, mse(train): nan, mse(dev): nan | facc(train): 0.5047, facc(dev): 0.5066\n",
      "k:  4800, mse(train): nan, mse(dev): nan | facc(train): 0.5047, facc(dev): 0.5066\n",
      "\n",
      "*******L2: Model Selection************************\n",
      "(start): Regularization-scale:  1000.0\n",
      "k:     0, mse(train): 0.2498, mse(dev): 0.5066 | facc(train): 0.4967, facc(dev): 0.4934\n",
      "k:   200, mse(train): nan, mse(dev): nan | facc(train): 0.5047, facc(dev): 0.5066\n",
      "k:   400, mse(train): nan, mse(dev): nan | facc(train): 0.5047, facc(dev): 0.5066\n",
      "k:   600, mse(train): nan, mse(dev): nan | facc(train): 0.5047, facc(dev): 0.5066\n",
      "k:   800, mse(train): nan, mse(dev): nan | facc(train): 0.5047, facc(dev): 0.5066\n",
      "k:  1000, mse(train): nan, mse(dev): nan | facc(train): 0.5047, facc(dev): 0.5066\n",
      "k:  1200, mse(train): nan, mse(dev): nan | facc(train): 0.5047, facc(dev): 0.5066\n",
      "k:  1400, mse(train): nan, mse(dev): nan | facc(train): 0.5047, facc(dev): 0.5066\n",
      "k:  1600, mse(train): nan, mse(dev): nan | facc(train): 0.5047, facc(dev): 0.5066\n",
      "k:  1800, mse(train): nan, mse(dev): nan | facc(train): 0.5047, facc(dev): 0.5066\n",
      "k:  2000, mse(train): nan, mse(dev): nan | facc(train): 0.5047, facc(dev): 0.5066\n",
      "k:  2200, mse(train): nan, mse(dev): nan | facc(train): 0.5047, facc(dev): 0.5066\n",
      "k:  2400, mse(train): nan, mse(dev): nan | facc(train): 0.5047, facc(dev): 0.5066\n",
      "k:  2600, mse(train): nan, mse(dev): nan | facc(train): 0.5047, facc(dev): 0.5066\n",
      "k:  2800, mse(train): nan, mse(dev): nan | facc(train): 0.5047, facc(dev): 0.5066\n",
      "k:  3000, mse(train): nan, mse(dev): nan | facc(train): 0.5047, facc(dev): 0.5066\n",
      "k:  3200, mse(train): nan, mse(dev): nan | facc(train): 0.5047, facc(dev): 0.5066\n",
      "k:  3400, mse(train): nan, mse(dev): nan | facc(train): 0.5047, facc(dev): 0.5066\n",
      "k:  3600, mse(train): nan, mse(dev): nan | facc(train): 0.5047, facc(dev): 0.5066\n",
      "k:  3800, mse(train): nan, mse(dev): nan | facc(train): 0.5047, facc(dev): 0.5066\n",
      "k:  4000, mse(train): nan, mse(dev): nan | facc(train): 0.5047, facc(dev): 0.5066\n",
      "k:  4200, mse(train): nan, mse(dev): nan | facc(train): 0.5047, facc(dev): 0.5066\n",
      "k:  4400, mse(train): nan, mse(dev): nan | facc(train): 0.5047, facc(dev): 0.5066\n",
      "k:  4600, mse(train): nan, mse(dev): nan | facc(train): 0.5047, facc(dev): 0.5066\n",
      "k:  4800, mse(train): nan, mse(dev): nan | facc(train): 0.5047, facc(dev): 0.5066\n"
     ]
    }
   ],
   "source": [
    "\n",
    "# for stepsize in lrs:\n",
    "for regsize in lregs:\n",
    "\n",
    "    print(f'\\n*******L{regtype}: Model Selection************************')\n",
    "    print('(start): Regularization-scale: ', regsize)\n",
    "    # print(W.T) # to debug mutability\n",
    "\n",
    "    # - modeldict: data structure that holds details of the trained model\n",
    "    modeldict = {'W': W.copy(), 'stepsize': stepsize,\n",
    "                 'reg_type': regtype, 'reg_size': regsize, 'epochs': epochs,\n",
    "                 'cols': traindata['cols'],\n",
    "                 'normalize': traindata['scalers'],\n",
    "                 'mse_train': None, 'mse_dev': None,\n",
    "                 'facc_train': None, 'facc_dev': None,\n",
    "                 'sparsity': None, \n",
    "                 'bigk': bigks, 'WBigK': None, 'WBigK_feats': None\n",
    "                 }\n",
    "\n",
    "    # - train: iterative line search (full batch)\n",
    "    gradient_descent(modeldict, stdlogistic, traindata, devdata)\n",
    "    model_sels.append(modeldict)\n"
   ]
  },
  {
   "cell_type": "code",
   "execution_count": 5,
   "metadata": {},
   "outputs": [],
   "source": [
    "\n",
    "\n",
    "    if np.isfinite(modeldict['mse_train'][-1]):\n",
    "        print(f\"MSE (Train): {modeldict['mse_train'][-1]:2.4f} | \"\n",
    "              f\"(Validation): {modeldict['mse_dev'][-1]:2.4f}\")\n",
    "        print(f\"Class Accuracy (Train): {modeldict['facc_train'][-1]:2.4f} | \"\n",
    "              f\"(Validation): {modeldict['facc_dev'][-1]:2.4f}\")\n",
    "\n",
    "        # print(W.T)\n",
    "        print(f\"Model Sparsity: {modeldict['sparsity']}\")\n",
    "        print('Final Learned Weights')\n",
    "        # print((modeldict['W']).T)\n",
    "        # Print top 5 weighted features\n",
    "        print(\"Features (Top-5) with largest weight magnitude\")\n",
    "        print(modeldict['WBigK_feats'].tolist())\n",
    "        wbigk_str = np.array2string(modeldict['WBigK'].flatten(),\n",
    "                                    formatter={'float_kind': '{0:2.4f}'.format})\n",
    "        print(wbigk_str)\n",
    "        print('(end): ----\\n')\n",
    "\n",
    "\n"
   ]
  },
  {
   "cell_type": "code",
   "execution_count": 6,
   "metadata": {},
   "outputs": [
    {
     "name": "stdout",
     "output_type": "stream",
     "text": [
      "Regularization Plot...\t\n"
     ]
    },
    {
     "data": {
      "image/png": "[encoded data removed]",
      "text/plain": [
       "<Figure size 432x288 with 2 Axes>"
      ]
     },
     "metadata": {
      "needs_background": "light"
     },
     "output_type": "display_data"
    },
    {
     "name": "stdout",
     "output_type": "stream",
     "text": [
      "Done.\n",
      "\n",
      "Sparsity Plot...\t\n"
     ]
    },
    {
     "data": {
      "image/png": "[encoded data removed]",
      "text/plain": [
       "<Figure size 432x288 with 1 Axes>"
      ]
     },
     "metadata": {
      "needs_background": "light"
     },
     "output_type": "display_data"
    },
    {
     "name": "stdout",
     "output_type": "stream",
     "text": [
      "Done.\n",
      "\n"
     ]
    }
   ],
   "source": [
    "\n",
    "\n",
    "# Other Plots\n",
    "faccs_train = []\n",
    "faccs_dev = []\n",
    "regular_szs = []\n",
    "sparse_wts = []\n",
    "for mdl in model_sels:\n",
    "    faccs_train.append(mdl['facc_train'][-1])\n",
    "    faccs_dev.append(mdl['facc_dev'][-1])\n",
    "    sparse_wts.append(mdl['sparsity'])\n",
    "    regular_szs.append(mdl['reg_size'])\n",
    "\n",
    "print('Regularization Plot...\\t')\n",
    "fig, ax3 = plt.subplots(figsize=(6, 4), tight_layout=True)\n",
    "ax3.semilogx(regular_szs, faccs_train,\n",
    "             color='r', marker='o', markerfacecolor='m', zorder=2.5, alpha=0.5)\n",
    "ax3.set_ylabel(f'training accuracy', color='r')\n",
    "ax4 = ax3.twinx()\n",
    "ax4.semilogx(regular_szs, faccs_dev,\n",
    "             color='b', marker='o', markerfacecolor='m', zorder=2.5, alpha=0.5)\n",
    "ax4.set_ylabel(f'validation accuracy', color='b')\n",
    "ax3.set_xlabel(f'$\\\\lambda$, regularization size')\n",
    "ax3.set_title(f\"$\\\\mathcal{{L}}_{{{regtype:1d}}}$, $\\\\alpha = {stepsize:2.1g}$, epochs = {epochs}: Classification Accuracy\",\n",
    "              color='k', weight='bold', size=10)\n",
    "# plt.ion\n",
    "plt.savefig(figs_dir + f\"L{regtype}_trainvalcmp_plt.pdf\", bbox_inches='tight')\n",
    "plt.show(block=False)\n",
    "print('Done.\\n')\n",
    "\n",
    "\n",
    "print('Sparsity Plot...\\t')\n",
    "fig, ax5 = plt.subplots(figsize=(6, 4), tight_layout=True)\n",
    "ax5.semilogx(regular_szs, sparse_wts,\n",
    "             color='m', marker='o', markerfacecolor='r', zorder=2.5, alpha=0.5)\n",
    "ax5.set_xlabel(f'$\\\\lambda$, regularization size')\n",
    "ax5.set_ylabel(f'weight sparsity')\n",
    "ax5.set_title(f\"$\\\\mathcal{{L}}_{{{regtype:1d}}}$, Model Sparsity\",\n",
    "              color='k', weight='bold', size=10)\n",
    "# plt.ion\n",
    "plt.savefig(figs_dir + f\"L{regtype}_sparsityplt.pdf\", bbox_inches='tight')\n",
    "plt.show(block=False)\n",
    "print('Done.\\n')\n"
   ]
  }
 ],
 "metadata": {
  "interpreter": {
   "hash": "a7e555a1f04e95f62cde946e3efcdc8b3b0acb272fdb6e73a36250632bba5f66"
  },
  "kernelspec": {
   "display_name": "Python 3.10.4 64-bit",
   "language": "python",
   "name": "python3"
  },
  "language_info": {
   "codemirror_mode": {
    "name": "ipython",
    "version": 3
   },
   "file_extension": ".py",
   "mimetype": "text/x-python",
   "name": "python",
   "nbconvert_exporter": "python",
   "pygments_lexer": "ipython3",
   "version": "3.10.4"
  },
  "orig_nbformat": 4
 },
 "nbformat": 4,
 "nbformat_minor": 2
}
